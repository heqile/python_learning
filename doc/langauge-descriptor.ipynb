{
 "cells": [
  {
   "cell_type": "markdown",
   "metadata": {},
   "source": [
    "# Descriptor"
   ]
  },
  {
   "cell_type": "markdown",
   "metadata": {},
   "source": [
    "* What is descriptor\n",
    "* Basic example\n",
    "* Practice\n",
    "* When to use"
   ]
  },
  {
   "cell_type": "markdown",
   "metadata": {},
   "source": [
    "## What is descriptor"
   ]
  },
  {
   "cell_type": "markdown",
   "metadata": {},
   "source": [
    "`Descriptor protocol`: if a class implements at least of the magic methods: `__get__`, `__set__` and `__delete__`, it is a descriptor."
   ]
  },
  {
   "cell_type": "code",
   "execution_count": null,
   "metadata": {},
   "outputs": [],
   "source": [
    "class Descriptor:\n",
    "    def __get__(self, obj, objtype=None) -> \"value\":\n",
    "        ...\n",
    "    \n",
    "    def __set__(self, obj, value) -> None:\n",
    "        ...\n",
    "    \n",
    "    def __delete__(self, obj) -> None:\n",
    "        ..."
   ]
  },
  {
   "cell_type": "markdown",
   "metadata": {},
   "source": [
    "## Basic Example\n",
    "\n",
    "The class `Attribute` is a simple descriptor."
   ]
  },
  {
   "cell_type": "code",
   "execution_count": null,
   "metadata": {},
   "outputs": [],
   "source": [
    "class Attribute:\n",
    "    def __set_name__(self, owner, name):  \n",
    "        \"\"\"create an attribute name for the taget varible\"\"\"\n",
    "        print(f\"setting name '{name}' on '{owner}'\")\n",
    "        self.private_name = f\"_{name}\"\n",
    "\n",
    "    def __get__(self, obj, objtype=None):\n",
    "        print(f\"getting on '{obj}' of '{objtype}' from Attribute.__get__\")\n",
    "        return getattr(obj, self.private_name)\n",
    "    \n",
    "    def __set__(self, obj, value):\n",
    "        print(f\"setting '{value}' on '{obj}' from Attribute.__set__\")\n",
    "        setattr(obj, self.private_name, value)\n",
    "\n",
    "    def __delete__(self, obj):\n",
    "        print(f\"deleting on '{obj}' from Attribute.__delete__\")\n",
    "        delattr(obj, self.private_name)"
   ]
  },
  {
   "cell_type": "markdown",
   "metadata": {},
   "source": [
    "To use this descriptor, we need to instantiate it as a class variable."
   ]
  },
  {
   "cell_type": "code",
   "execution_count": null,
   "metadata": {},
   "outputs": [],
   "source": [
    "class Sample:\n",
    "    name = Attribute()  # this will call Attribute.__set_name__\n",
    "\n",
    "    def __init__(self, name):\n",
    "        self.name = name"
   ]
  },
  {
   "cell_type": "markdown",
   "metadata": {},
   "source": [
    "Then we can invoke the descriptor by get/set/delete the attribute `name`. "
   ]
  },
  {
   "cell_type": "code",
   "execution_count": null,
   "metadata": {},
   "outputs": [],
   "source": [
    "# set `name` via descriptor, calling Attribute.__set__\n",
    "s = Sample(\"test\")\n",
    "s.__dict__"
   ]
  },
  {
   "cell_type": "code",
   "execution_count": null,
   "metadata": {},
   "outputs": [],
   "source": [
    "# get `name` via descriptor, calling Attribute.__get__\n",
    "s.name"
   ]
  },
  {
   "cell_type": "code",
   "execution_count": null,
   "metadata": {},
   "outputs": [],
   "source": [
    "# delete `name` via descriptor, calling Attribute.__delete__\n",
    "del s.name\n",
    "s.__dict__"
   ]
  },
  {
   "cell_type": "markdown",
   "metadata": {},
   "source": [
    "## Practices"
   ]
  },
  {
   "cell_type": "markdown",
   "metadata": {},
   "source": [
    "### Type validator\n",
    "One of the usage of descriptor is type validator. By nature, Python is a dynamically-typed language. It will not check the type until you use it."
   ]
  },
  {
   "cell_type": "markdown",
   "metadata": {},
   "source": [
    "#### Problem\n",
    "We have a class user which accept user's name and his age which should be `str` and `int`."
   ]
  },
  {
   "cell_type": "code",
   "execution_count": null,
   "metadata": {},
   "outputs": [],
   "source": [
    "class User:\n",
    "    first_name: str = None\n",
    "    last_name: str = None\n",
    "    age: int = None\n",
    "\n",
    "    def __init__(self, first_name: str, last_name: str, age: int):\n",
    "        self.first_name = first_name\n",
    "        self.last_name = last_name\n",
    "        self.age = age\n",
    "\n",
    "    def info(self):\n",
    "        return \"full name:\" + self.first_name + \" \" + self.last_name\n",
    "\n",
    "    def age_of_next_year(self):\n",
    "        return self.age + 1"
   ]
  },
  {
   "cell_type": "markdown",
   "metadata": {},
   "source": [
    "It works fine, if you give the right type."
   ]
  },
  {
   "cell_type": "code",
   "execution_count": null,
   "metadata": {},
   "outputs": [],
   "source": [
    "alice = User(first_name=\"Alice\", last_name=\"A\", age=20)\n",
    "print(alice.info())\n",
    "print(alice.age_of_next_year())"
   ]
  },
  {
   "cell_type": "markdown",
   "metadata": {},
   "source": [
    "But if you give a wrong type, the constructor will not tell you that you are wrong."
   ]
  },
  {
   "cell_type": "code",
   "execution_count": null,
   "metadata": {},
   "outputs": [],
   "source": [
    "bob = User(first_name=\"Bob\", last_name=0, age=\"30\")"
   ]
  },
  {
   "cell_type": "markdown",
   "metadata": {},
   "source": [
    "You will only be telled the error when you call the relevant methods."
   ]
  },
  {
   "cell_type": "code",
   "execution_count": null,
   "metadata": {},
   "outputs": [],
   "source": [
    "bob.info()"
   ]
  },
  {
   "cell_type": "code",
   "execution_count": null,
   "metadata": {},
   "outputs": [],
   "source": [
    "bob.age_of_next_year()"
   ]
  },
  {
   "cell_type": "markdown",
   "metadata": {},
   "source": [
    "#### Solution\n",
    "To overcome this, of course, we can add some type checking code in the constructor. But it is not convient."
   ]
  },
  {
   "cell_type": "code",
   "execution_count": null,
   "metadata": {},
   "outputs": [],
   "source": [
    "class User:\n",
    "    first_name: str = None\n",
    "    last_name: str = None\n",
    "    age: int = None\n",
    "\n",
    "    def __init__(self, first_name: str, last_name: str, age: int):\n",
    "        if not isinstance(first_name, str):\n",
    "            raise TypeError(f\"first_name has wrong type, expected '{type(first_name)}'\")\n",
    "        if not isinstance(last_name, str):\n",
    "            raise TypeError(f\"last_name has wrong type, expected '{type(last_name)}'\")\n",
    "        if not isinstance(age, int):\n",
    "            raise TypeError(f\"age has wrong type, expected '{type(age)}'\")\n",
    "        self.first_name = first_name\n",
    "        self.last_name = last_name\n",
    "        self.age = age\n",
    "\n",
    "    def info(self):\n",
    "        return \"full name:\" + self.first_name + \" \" + self.last_name\n",
    "\n",
    "    def age_of_next_year(self):\n",
    "        return self.age + 1"
   ]
  },
  {
   "cell_type": "markdown",
   "metadata": {},
   "source": [
    "So descriptor can help here. We create some validator classes."
   ]
  },
  {
   "cell_type": "code",
   "execution_count": null,
   "metadata": {},
   "outputs": [],
   "source": [
    "class TypeValidator:\n",
    "    def __set_name__(self, obj, name):\n",
    "        self.name = name\n",
    "        self.private_name = f\"_{name}\"\n",
    "    \n",
    "    def __get__(self, obj, objtype=None):\n",
    "        return getattr(obj, self.private_name)\n",
    "\n",
    "    def __set__(self, obj, value):\n",
    "        self.validate(value)\n",
    "        setattr(obj, self.private_name, value)\n",
    "\n",
    "    def validate(self, value):\n",
    "        raise NotImplementedError(\"Not implemented in TypeValidator\")\n",
    "\n",
    "class String(TypeValidator):\n",
    "    def validate(self, value):\n",
    "        if not isinstance(value, str):\n",
    "            raise TypeError(f\"{self.name} has wrong type, expected '{type(value)}'\")\n",
    "\n",
    "class Int(TypeValidator):\n",
    "    def validate(self, value):\n",
    "        if not isinstance(value, int):\n",
    "            raise TypeError(f\"{self.name} has wrong type, expected '{type(value)}'\")"
   ]
  },
  {
   "cell_type": "markdown",
   "metadata": {},
   "source": [
    "Apply them to the `User` class."
   ]
  },
  {
   "cell_type": "code",
   "execution_count": null,
   "metadata": {},
   "outputs": [],
   "source": [
    "class User:\n",
    "    first_name: str = String()\n",
    "    last_name: str = String()\n",
    "    age: int = Int()\n",
    "\n",
    "    def __init__(self, first_name: str, last_name: str, age: int):\n",
    "        self.first_name = first_name\n",
    "        self.last_name = last_name\n",
    "        self.age = age\n",
    "\n",
    "    def info(self):\n",
    "        return \"full name:\" + self.first_name + \" \" + self.last_name\n",
    "\n",
    "    def age_of_next_year(self):\n",
    "        return self.age + 1"
   ]
  },
  {
   "cell_type": "markdown",
   "metadata": {},
   "source": [
    "Let's do some tests."
   ]
  },
  {
   "cell_type": "code",
   "execution_count": null,
   "metadata": {},
   "outputs": [],
   "source": [
    "# it should still work\n",
    "alice = User(first_name=\"Alice\", last_name=\"A\", age=20)\n",
    "print(alice.info())\n",
    "print(alice.age_of_next_year())"
   ]
  },
  {
   "cell_type": "code",
   "execution_count": null,
   "metadata": {},
   "outputs": [],
   "source": [
    "# this should fail from constructor\n",
    "bob = User(first_name=\"Bob\", last_name=0, age=\"30\")"
   ]
  },
  {
   "cell_type": "markdown",
   "metadata": {},
   "source": [
    "## Close thought"
   ]
  },
  {
   "cell_type": "markdown",
   "metadata": {},
   "source": [
    "### Descriptor types"
   ]
  },
  {
   "cell_type": "markdown",
   "metadata": {},
   "source": [
    "There are 2 types of descripors: `data descriptor` and `non-data descriptor`. There is difference on the attribute look up process.\n",
    "\n",
    "cf. [descriptor how to](https://docs.python.org/3/howto/descriptor.html#descriptor-protocol)"
   ]
  },
  {
   "cell_type": "markdown",
   "metadata": {},
   "source": [
    "### Descriptor usage in python"
   ]
  },
  {
   "cell_type": "markdown",
   "metadata": {},
   "source": [
    "Descriptor is also used in Python it-self, like methods(including @staticmethod, @classmethod), property...\n",
    "It is also used in mecanisme like ORM..."
   ]
  },
  {
   "cell_type": "markdown",
   "metadata": {},
   "source": [
    "### When we need it"
   ]
  },
  {
   "cell_type": "markdown",
   "metadata": {},
   "source": [
    "In most cases, it is the owner class's job to figure out how to find the attributes."
   ]
  },
  {
   "cell_type": "markdown",
   "metadata": {},
   "source": [
    "But descriptor makes it different. The descripter takes over this job, it will find the attribute."
   ]
  },
  {
   "cell_type": "markdown",
   "metadata": {},
   "source": [
    "It can be useful when we want to add some additional treatment before saving an attribute, like type validation, modification of the saving data... Often, these treatments are expensive/inconvient to generalize if we implement the in the owner class. (I used it in [http_testing framework](https://github.com/heqile/http_testing/blob/main/http_testing/assertion_elements/assertion_attribute_base.py))"
   ]
  },
  {
   "cell_type": "markdown",
   "metadata": {},
   "source": [
    "But for daily developpement, we may not often use it. But it is good to know when you need."
   ]
  }
 ],
 "metadata": {
  "kernelspec": {
   "display_name": "Python 3.9.5 ('.venv': poetry)",
   "language": "python",
   "name": "python3"
  },
  "language_info": {
   "codemirror_mode": {
    "name": "ipython",
    "version": 3
   },
   "file_extension": ".py",
   "mimetype": "text/x-python",
   "name": "python",
   "nbconvert_exporter": "python",
   "pygments_lexer": "ipython3",
   "version": "3.9.5"
  },
  "orig_nbformat": 4,
  "vscode": {
   "interpreter": {
    "hash": "cfa0482653dc25b4bd0ea1b08a583011fb09e2550e522bf5d603e5e6491eeced"
   }
  }
 },
 "nbformat": 4,
 "nbformat_minor": 2
}
