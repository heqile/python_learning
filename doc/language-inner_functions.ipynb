{
 "cells": [
  {
   "cell_type": "markdown",
   "metadata": {},
   "source": [
    "## Inner Functions & Decorators"
   ]
  },
  {
   "cell_type": "markdown",
   "metadata": {},
   "source": [
    "### Simple Inner Function"
   ]
  },
  {
   "cell_type": "markdown",
   "metadata": {},
   "source": [
    "Inner function is a function defined inside another function, for example:"
   ]
  },
  {
   "cell_type": "code",
   "execution_count": null,
   "metadata": {},
   "outputs": [],
   "source": [
    "def outer():\n",
    "    def inner():\n",
    "        print('from inner')\n",
    "    inner()\n",
    "    print('from outer')\n",
    "outer()\n",
    "# from inner\n",
    "# from outer"
   ]
  },
  {
   "cell_type": "markdown",
   "metadata": {},
   "source": [
    "The inner function can use the variables of the outer function."
   ]
  },
  {
   "cell_type": "code",
   "execution_count": null,
   "metadata": {},
   "outputs": [],
   "source": [
    "def outer(a):\n",
    "    local_var = 'world'\n",
    "    def inner():\n",
    "        print(a, local_var)\n",
    "    inner()\n",
    "\n",
    "outer('hello')\n",
    "# hello world"
   ]
  },
  {
   "cell_type": "markdown",
   "metadata": {},
   "source": [
    "The inner function can not be called outside the outer function. Therefore the implementation is hidden from outside, like a private function.\n",
    "\n",
    "If you just want to hide the implementation, please use private function instead of inner function."
   ]
  },
  {
   "cell_type": "code",
   "execution_count": null,
   "metadata": {},
   "outputs": [],
   "source": [
    "def outer(a):\n",
    "    local_var = 'world'\n",
    "    def inner():\n",
    "        print(a, local_var)\n",
    "    inner()\n",
    "\n",
    "inner()\n",
    "# NameError: name 'inner' is not defined"
   ]
  },
  {
   "cell_type": "markdown",
   "metadata": {},
   "source": [
    "### Closure"
   ]
  },
  {
   "cell_type": "markdown",
   "metadata": {},
   "source": [
    "There is a important feature about inner function: __closure__."
   ]
  },
  {
   "cell_type": "markdown",
   "metadata": {},
   "source": [
    "A closure is an inner function returned by the outer one and the inner function uses some local variables of the outer one. For example:"
   ]
  },
  {
   "cell_type": "code",
   "execution_count": null,
   "metadata": {},
   "outputs": [],
   "source": [
    "def outer(a):\n",
    "    local_var = 'from closure'\n",
    "    def inner(b):\n",
    "        print(a, b, local_var)\n",
    "    return inner\n",
    "\n",
    "func = outer('hello')\n",
    "func('world')\n",
    "# hello world from closure\n",
    "func('groot')\n",
    "# hello groot from closure"
   ]
  },
  {
   "cell_type": "markdown",
   "metadata": {},
   "source": [
    "The local variables of outer function used in inner function keeps their values. We can inspect those variables."
   ]
  },
  {
   "cell_type": "code",
   "execution_count": null,
   "metadata": {},
   "outputs": [],
   "source": [
    "import inspect\n",
    "inspect.getclosurevars(func)\n",
    "# ClosureVars(nonlocals={'a': 'hello', 'local_var': 'from closure'}, globals={}, builtins={'print': <built-in function print>}, unbound=set())"
   ]
  },
  {
   "cell_type": "markdown",
   "metadata": {},
   "source": [
    "An interesting case is, what will happen if there is an undeclared variable in the inner function ?"
   ]
  },
  {
   "cell_type": "code",
   "execution_count": null,
   "metadata": {},
   "outputs": [],
   "source": [
    "def outer(a):\n",
    "    local_var = 'from closure'\n",
    "    def inner(b):\n",
    "        print(a, b, c, local_var)\n",
    "    return inner"
   ]
  },
  {
   "cell_type": "code",
   "execution_count": null,
   "metadata": {},
   "outputs": [],
   "source": [
    "func = outer('I')\n",
    "func('am')\n",
    "# NameError: name 'c' is not defined\n",
    "\n",
    "inspect.getclosurevars(func)\n",
    "# ClosureVars(nonlocals={'a': 'I', 'local_var': 'from closure'}, globals={}, builtins={'print': <built-in function print>}, unbound={'c'})"
   ]
  },
  {
   "cell_type": "markdown",
   "metadata": {},
   "source": [
    "Of course, the `c` is not defined. Now let's declare the `c` in the global scope, and call the `func` again."
   ]
  },
  {
   "cell_type": "code",
   "execution_count": null,
   "metadata": {},
   "outputs": [],
   "source": [
    "c = 'groot'\n",
    "func('am')\n",
    "# I am groot from closure\n",
    "\n",
    "inspect.getclosurevars(func)\n",
    "# ClosureVars(nonlocals={'a': 'I', 'local_var': 'from closure'}, globals={'c': 'groot'}, builtins={'print': <built-in function print>}, unbound=set())"
   ]
  },
  {
   "cell_type": "markdown",
   "metadata": {},
   "source": [
    "Python tries to resolve unbound variables from the current global scope."
   ]
  },
  {
   "cell_type": "markdown",
   "metadata": {},
   "source": [
    "One usage of closure is factory function:"
   ]
  },
  {
   "cell_type": "code",
   "execution_count": null,
   "metadata": {},
   "outputs": [],
   "source": [
    "def generate_power(exponent):\n",
    "    def power(base):\n",
    "        return base ** exponent\n",
    "    return power\n",
    "\n",
    "raise_two = generate_power(2)\n",
    "raise_two(4)\n",
    "# 16\n",
    "raise_three = generate_power(3)\n",
    "raise_three(4)\n",
    "# 64"
   ]
  },
  {
   "cell_type": "markdown",
   "metadata": {},
   "source": [
    "Another important usage is \"decorator\"."
   ]
  },
  {
   "cell_type": "markdown",
   "metadata": {},
   "source": [
    "### Decorator (with function)"
   ]
  },
  {
   "cell_type": "markdown",
   "metadata": {},
   "source": [
    "Similar to [\"decorator\" pattern](https://en.wikipedia.org/wiki/Decorator_pattern) which intends to add additional behaviors before and after the current behaviors.\n",
    "\n",
    "In python, \"decorator\" is a function that takes another function and extends the behavior of the latter function without explicitly modifying it."
   ]
  },
  {
   "cell_type": "markdown",
   "metadata": {},
   "source": [
    "For example, we want to add some log before and after calling a function."
   ]
  },
  {
   "cell_type": "code",
   "execution_count": null,
   "metadata": {},
   "outputs": [],
   "source": [
    "def log_func(func):\n",
    "    def wrapper(*args, **kwargs):\n",
    "        print('something before')\n",
    "        func(*args, **kwargs)\n",
    "        print('somethine after')\n",
    "    return wrapper\n",
    "\n",
    "def hello():\n",
    "    print(f'hi')\n",
    "\n",
    "hello = log_func(hello)\n",
    "hello()\n",
    "# something before\n",
    "# hi\n",
    "# somethine after"
   ]
  },
  {
   "cell_type": "markdown",
   "metadata": {},
   "source": [
    "Additional, python gives a syntax sugar: \n",
    "\n",
    "`@decorator` <==> `func = decorator(func)`"
   ]
  },
  {
   "cell_type": "code",
   "execution_count": null,
   "metadata": {},
   "outputs": [],
   "source": [
    "hello = log_func(hello)\n",
    "\n",
    "# equivalent to\n",
    "@log_func\n",
    "def hello():\n",
    "    print(f'hi')\n",
    "\n",
    "hello()\n",
    "# something before\n",
    "# hi\n",
    "# somethine after"
   ]
  },
  {
   "cell_type": "markdown",
   "metadata": {},
   "source": [
    "But there is a problem with the above function, we lost the original function's identity."
   ]
  },
  {
   "cell_type": "code",
   "execution_count": null,
   "metadata": {},
   "outputs": [],
   "source": [
    "hello\n",
    "# <function __main__.log_func.<locals>.wrapper(*args, **kwargs)>\n",
    "hello.__name__\n",
    "# wrapper"
   ]
  },
  {
   "cell_type": "markdown",
   "metadata": {},
   "source": [
    "The function's name is no longer `hello` but is `wrapper` which is the inner function's name."
   ]
  },
  {
   "cell_type": "markdown",
   "metadata": {},
   "source": [
    "To handle this, we need to use `functools.wraps`."
   ]
  },
  {
   "cell_type": "code",
   "execution_count": null,
   "metadata": {},
   "outputs": [],
   "source": [
    "import functools\n",
    "\n",
    "def log_func(func):\n",
    "    @functools.wraps(func)\n",
    "    def wrapper(*args, **kwargs):\n",
    "        print('something before')\n",
    "        func(*args, **kwargs)\n",
    "        print('somethine after')\n",
    "    return wrapper\n",
    "\n",
    "@log_func\n",
    "def hello():\n",
    "    print(f'hi')\n",
    "\n",
    "hello\n",
    "# <function __main__.hello()>\n",
    "hello.__name__\n",
    "# hello"
   ]
  },
  {
   "cell_type": "markdown",
   "metadata": {},
   "source": [
    "Sometimes we need to give some arguments to the decorator function. For example: "
   ]
  },
  {
   "cell_type": "code",
   "execution_count": null,
   "metadata": {},
   "outputs": [],
   "source": [
    "@log_func(before_only=True)\n",
    "def hello():\n",
    "    print(f'hi')\n",
    "\n",
    "# equivalent to\n",
    "# hello = log_func(before_only=True)(hello)"
   ]
  },
  {
   "cell_type": "markdown",
   "metadata": {},
   "source": [
    "To achieve this goal, we need to add one more level of function."
   ]
  },
  {
   "cell_type": "code",
   "execution_count": null,
   "metadata": {},
   "outputs": [],
   "source": [
    "import functools\n",
    "def log_func(before_only=False):\n",
    "    def _log_func(func):\n",
    "        @functools.wraps(func)\n",
    "        def wrapper(*args, **kwargs):\n",
    "            print('something before')\n",
    "            func(*args, **kwargs)\n",
    "            if not before_only:\n",
    "                print('somethine after')\n",
    "        return wrapper\n",
    "    return _log_func\n"
   ]
  },
  {
   "cell_type": "code",
   "execution_count": null,
   "metadata": {},
   "outputs": [],
   "source": [
    "@log_func(before_only=True)\n",
    "def hello():\n",
    "    print(f'hi')\n",
    "\n",
    "hello()\n",
    "# something before\n",
    "# hi"
   ]
  },
  {
   "cell_type": "markdown",
   "metadata": {},
   "source": [
    "But it breaks the origin version of decorator:"
   ]
  },
  {
   "cell_type": "code",
   "execution_count": null,
   "metadata": {},
   "outputs": [],
   "source": [
    "@log_func\n",
    "def hello():\n",
    "    print(f'hi')\n",
    "\n",
    "hello()\n",
    "# TypeError: _log_func() missing 1 required positional argument: 'func'"
   ]
  },
  {
   "cell_type": "markdown",
   "metadata": {},
   "source": [
    "We have to use decorator differently."
   ]
  },
  {
   "cell_type": "code",
   "execution_count": null,
   "metadata": {},
   "outputs": [],
   "source": [
    "@log_func()  # note this extra '()'\n",
    "def hello():\n",
    "    print(f'hi')\n",
    "\n",
    "hello()\n",
    "# something before\n",
    "# hi\n",
    "# somethine after"
   ]
  },
  {
   "cell_type": "markdown",
   "metadata": {},
   "source": [
    "It is a little inconvient. I suggest to use kwargs only arguments to overcome this problem."
   ]
  },
  {
   "cell_type": "code",
   "execution_count": null,
   "metadata": {},
   "outputs": [],
   "source": [
    "import functools\n",
    "# the parameter after `*` is kwargs only, cf. https://peps.python.org/pep-3102/\n",
    "def log_func(func=None, *, before_only=False):\n",
    "    def _log_func(func):\n",
    "        @functools.wraps(func)\n",
    "        def wrapper(*args, **kwargs):\n",
    "            print('something before')\n",
    "            func(*args, **kwargs)\n",
    "            if not before_only:\n",
    "                print('somethine after')\n",
    "        return wrapper\n",
    "    if func is not None:\n",
    "        return _log_func(func)\n",
    "    return _log_func"
   ]
  },
  {
   "cell_type": "code",
   "execution_count": null,
   "metadata": {},
   "outputs": [],
   "source": [
    "@log_func\n",
    "def hello():\n",
    "    print(f'hi')\n",
    "\n",
    "hello()\n",
    "# something before\n",
    "# hi\n",
    "# somethine after"
   ]
  },
  {
   "cell_type": "code",
   "execution_count": null,
   "metadata": {},
   "outputs": [],
   "source": [
    "@log_func(before_only=True)\n",
    "def hello():\n",
    "    print(f'hi')\n",
    "\n",
    "hello()\n",
    "# something before\n",
    "# hi"
   ]
  },
  {
   "cell_type": "markdown",
   "metadata": {},
   "source": [
    "### Decorator (with class)"
   ]
  },
  {
   "cell_type": "markdown",
   "metadata": {},
   "source": [
    "To recall, the decorator syntax `@deco` is equivalent to `func = deco(func)`. The `deco` object does not have to be a function, any thing can be used as `deco`, if:\n",
    "- `deco` is a callable which accepts a variable\n",
    "- `deco` returns a callable"
   ]
  },
  {
   "cell_type": "markdown",
   "metadata": {},
   "source": [
    "For instance, if a class defines a dunder method `__call__`, it could be used as a decorator.\n",
    "\n",
    "The `__call__` method can make instance of the class to be a callable."
   ]
  },
  {
   "cell_type": "code",
   "execution_count": null,
   "metadata": {},
   "outputs": [],
   "source": [
    "class CallMe:\n",
    "    def __call__(self):\n",
    "        print('hello')\n",
    "\n",
    "iamcallable = CallMe()\n",
    "iamcallable()\n",
    "# hello"
   ]
  },
  {
   "cell_type": "markdown",
   "metadata": {},
   "source": [
    "Therefore, the class based decorator could look like this (this is one possible variation):"
   ]
  },
  {
   "cell_type": "code",
   "execution_count": null,
   "metadata": {},
   "outputs": [],
   "source": [
    "import functools\n",
    "class LogCall:\n",
    "    def __init__(self, func=None, *, before_only=False):\n",
    "        self._before_only = before_only\n",
    "        if func is not None:\n",
    "            self._wrapper_func = self._log_func(func)\n",
    "        else:\n",
    "            self._wrapper_func = self._log_func\n",
    "\n",
    "    def __call__(self, *args, **kwargs):\n",
    "        return self._wrapper_func(*args, **kwargs)\n",
    "\n",
    "    def _log_func(self, func):\n",
    "        @functools.wraps(func)\n",
    "        def wrapper(*args, **kwargs):\n",
    "            print('something before')\n",
    "            func(*args, **kwargs)\n",
    "            if not self._before_only:\n",
    "                print('somethine after')\n",
    "        return wrapper\n",
    "\n",
    "@LogCall\n",
    "def hello():\n",
    "    print(f'hi')\n",
    "\n",
    "hello()\n",
    "# something before from class\n",
    "# hi\n",
    "# something after from class\n",
    "\n",
    "@LogCall(before_only=True)\n",
    "def hello():\n",
    "    print(f'hi')\n",
    "\n",
    "hello()\n",
    "# something before from class\n",
    "# hi\n"
   ]
  },
  {
   "cell_type": "markdown",
   "metadata": {},
   "source": []
  }
 ],
 "metadata": {
  "kernelspec": {
   "display_name": "Python 3.9.13 64-bit (windows store)",
   "language": "python",
   "name": "python3"
  },
  "language_info": {
   "codemirror_mode": {
    "name": "ipython",
    "version": 3
   },
   "file_extension": ".py",
   "mimetype": "text/x-python",
   "name": "python",
   "nbconvert_exporter": "python",
   "pygments_lexer": "ipython3",
   "version": "3.9.13"
  },
  "orig_nbformat": 4,
  "vscode": {
   "interpreter": {
    "hash": "32ea2b9a0e87ce24ecf082bba44b305bb7a1100971049dd53e37a59a054eb943"
   }
  }
 },
 "nbformat": 4,
 "nbformat_minor": 2
}
